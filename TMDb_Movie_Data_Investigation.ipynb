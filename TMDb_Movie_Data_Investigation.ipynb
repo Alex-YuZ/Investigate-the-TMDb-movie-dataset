{
 "cells": [
  {
   "cell_type": "markdown",
   "metadata": {},
   "source": [
    "# Investigate the TMDb Movie Data"
   ]
  },
  {
   "cell_type": "markdown",
   "metadata": {},
   "source": [
    "## Data Wrangling\n",
    "\n",
    "In this section, we will firstly load in the data, check for cleanliness, and then trim and clean our dataset for analysis.\n",
    "\n",
    "\n",
    "\n",
    "### General Properties"
   ]
  },
  {
   "cell_type": "code",
   "execution_count": null,
   "metadata": {},
   "outputs": [],
   "source": [
    "import pandas as pd\n",
    "import numpy as np\n",
    "import matplotlib.pyplot as plt\n",
    "from pylab import *\n",
    "plt.style.use('seaborn-white')\n",
    "%matplotlib inline"
   ]
  },
  {
   "cell_type": "markdown",
   "metadata": {},
   "source": [
    "NOW, import the data and take a brief look at what the data set is like.  "
   ]
  },
  {
   "cell_type": "code",
   "execution_count": null,
   "metadata": {},
   "outputs": [],
   "source": [
    "# load the data\n",
    "filepath = 'tmdb-movies.csv'\n",
    "df = pd.read_csv(filepath)\n",
    "\n",
    "# data records, columns, data type, and missing values check\n",
    "df.info()"
   ]
  },
  {
   "cell_type": "markdown",
   "metadata": {},
   "source": [
    "From the above, we can attain a brief summary of the data structure such as how many records, columns are there, which data each column has and which of them have null values. \n",
    "\n",
    "Then let's ouptput a few lines to see how these data actually look like in the data set."
   ]
  },
  {
   "cell_type": "code",
   "execution_count": null,
   "metadata": {},
   "outputs": [],
   "source": [
    "# output the first five rows to see how the data is presented in the data set.\n",
    "df.head()"
   ]
  },
  {
   "cell_type": "markdown",
   "metadata": {},
   "source": [
    "From the above, we can see there are 10866 records. There are three data types in total, e.g. ***int***, ***float*** and ***strings***. Some columns like cast, homepage, tagline, production companies have lots of null values. Certain columns, like ‘cast’, ‘genres’ and production companies, contain multiple values separated by pipe ('|') characters. We need to do some tricks on these columns for answering our questions later on.  \n",
    "\n",
    "Next, let's take a quick view of descriptive statistics summary on the numeric data type in this data set. *See as below*."
   ]
  },
  {
   "cell_type": "code",
   "execution_count": null,
   "metadata": {},
   "outputs": [],
   "source": [
    "# make a brief descriptive statistics summary on the data\n",
    "df.describe()"
   ]
  },
  {
   "cell_type": "markdown",
   "metadata": {},
   "source": [
    "The summary above tells us some important numeric indicators about the movie, such as,  \n",
    "- the movie data set records the information from 1960 to 2015.\n",
    "- the average runtime of a movie is 102 mins but the maximum value is 900 mins which needs to be studied on deeper!\n",
    "- The mimium values of some columns are 0 such as the `budget`, `revenue`. This is against reality. According to the explaination on [Kaggle](https://www.kaggle.com/tmdb/tmdb-movie-metadata?select=tmdb_5000_movies.csv), *'it was necessary to treat values of zero in the budget field as missing.'*, so we may consider this when we are answering buget/revenue related questions."
   ]
  },
  {
   "cell_type": "code",
   "execution_count": null,
   "metadata": {},
   "outputs": [],
   "source": []
  }
 ],
 "metadata": {
  "kernelspec": {
   "display_name": "Python 3",
   "language": "python",
   "name": "python3"
  },
  "language_info": {
   "codemirror_mode": {
    "name": "ipython",
    "version": 3
   },
   "file_extension": ".py",
   "mimetype": "text/x-python",
   "name": "python",
   "nbconvert_exporter": "python",
   "pygments_lexer": "ipython3",
   "version": "3.7.9"
  }
 },
 "nbformat": 4,
 "nbformat_minor": 4
}
