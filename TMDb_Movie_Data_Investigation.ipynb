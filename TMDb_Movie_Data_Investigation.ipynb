{
 "cells": [
  {
   "cell_type": "markdown",
   "metadata": {},
   "source": [
    "# Investigate the TMDb Movie Data"
   ]
  },
  {
   "cell_type": "markdown",
   "metadata": {},
   "source": [
    "## Data Wrangling\n",
    "\n",
    "In this section, we will firstly load in the data, check for cleanliness, and then trim and clean our dataset for analysis.\n",
    "\n",
    "\n",
    "\n",
    "### General Properties"
   ]
  },
  {
   "cell_type": "code",
   "execution_count": null,
   "metadata": {},
   "outputs": [],
   "source": [
    "import pandas as pd\n",
    "import numpy as np\n",
    "import matplotlib.pyplot as plt\n",
    "from pylab import *\n",
    "plt.style.use('seaborn-white')\n",
    "%matplotlib inline"
   ]
  },
  {
   "cell_type": "markdown",
   "metadata": {},
   "source": [
    "NOW, import the data and take a brief look at what the data set is like.  "
   ]
  },
  {
   "cell_type": "code",
   "execution_count": null,
   "metadata": {},
   "outputs": [],
   "source": [
    "# load the data\n",
    "filepath = 'tmdb-movies.csv'\n",
    "df = pd.read_csv(filepath)\n",
    "\n",
    "# data records, columns, data type, and missing values check\n",
    "df.info()"
   ]
  },
  {
   "cell_type": "markdown",
   "metadata": {},
   "source": [
    "From the above, we can attain a brief summary of the data structure such as how many records, columns are there, which data each column has and which of them have null values. \n",
    "\n",
    "Then let's ouptput a few lines to see how these data actually look like in the data set."
   ]
  },
  {
   "cell_type": "code",
   "execution_count": null,
   "metadata": {},
   "outputs": [],
   "source": [
    "# output the first five rows to see how the data is presented in the data set.\n",
    "df.head()"
   ]
  },
  {
   "cell_type": "markdown",
   "metadata": {},
   "source": [
    "From the above, we can see there are 10866 records. There are three data types in total, e.g. ***int***, ***float*** and ***strings***. Some columns like cast, homepage, tagline, production companies have lots of null values. Certain columns, like ‘cast’, ‘genres’ and production companies, contain multiple values separated by pipe ('|') characters. We need to do some tricks on these columns for answering our questions later on.  \n",
    "\n",
    "Next, let's take a quick view of descriptive statistics summary on the numeric data type in this data set. *See as below*."
   ]
  },
  {
   "cell_type": "code",
   "execution_count": null,
   "metadata": {},
   "outputs": [],
   "source": [
    "# make a brief descriptive statistics summary on the data\n",
    "df.describe()"
   ]
  },
  {
   "cell_type": "markdown",
   "metadata": {},
   "source": [
    "The summary above tells us some important numeric indicators about the movie, such as,  \n",
    "- the movie data set records the information from 1960 to 2015.\n",
    "- the average runtime of a movie is 102 mins but the maximum value is 900 mins which needs to be studied on deeper!\n",
    "- The mimium values of some columns are 0 such as the `budget`, `revenue`. This is against reality. According to the explaination on [Kaggle](https://www.kaggle.com/tmdb/tmdb-movie-metadata?select=tmdb_5000_movies.csv), *'it was necessary to treat values of zero in the budget field as missing.'*, so we may consider this when we are answering buget/revenue related questions."
   ]
  },
  {
   "cell_type": "markdown",
   "metadata": {},
   "source": [
    "### Data Cleaning\n",
    "In this section, we are going to do some wrangling on the original data set such as dropping some redundant information, groupping, computing etc. for making our exploratory data analysis and answering our questions easily."
   ]
  },
  {
   "cell_type": "markdown",
   "metadata": {},
   "source": [
    "#### Drop the irrelevant columns\n",
    "\n",
    "As some columns do not make sense to answer our questions, we need to delete them from our dataset. Let's decide which columns need to be dropped."
   ]
  },
  {
   "cell_type": "code",
   "execution_count": null,
   "metadata": {},
   "outputs": [],
   "source": [
    "# general information about the data in the table.\n",
    "df.info()"
   ]
  },
  {
   "cell_type": "markdown",
   "metadata": {},
   "source": [
    "Columns like `id`, `imdb_id`, `cast`, `homepage`, `tagline`, `keywords`, `overview` are all irrelevant to our analysis in the project, so we drop them immediately."
   ]
  },
  {
   "cell_type": "code",
   "execution_count": null,
   "metadata": {},
   "outputs": [],
   "source": [
    "# drop the irrelevant columns.\n",
    "df.drop(['id', 'imdb_id', 'cast', 'homepage', 'tagline', 'keywords', 'overview'], axis=1, inplace=True)"
   ]
  },
  {
   "cell_type": "code",
   "execution_count": null,
   "metadata": {},
   "outputs": [],
   "source": [
    "# check the dataset after dropping.\n",
    "df.head()"
   ]
  },
  {
   "cell_type": "markdown",
   "metadata": {},
   "source": [
    "#### Drop the missing values\n",
    "Now let's look at the missing values in the dataset."
   ]
  },
  {
   "cell_type": "code",
   "execution_count": null,
   "metadata": {},
   "outputs": [],
   "source": [
    "# check which columns have missing values and how many are there?\n",
    "df.isnull().sum()"
   ]
  },
  {
   "cell_type": "markdown",
   "metadata": {},
   "source": [
    "From the result above, we can see that within the columns of `director`, `genres`, `production_companies`, there are a few null values, as they do not take up much proportion, we just choose to delete them."
   ]
  },
  {
   "cell_type": "code",
   "execution_count": null,
   "metadata": {},
   "outputs": [],
   "source": [
    "df.dropna(inplace=True)"
   ]
  },
  {
   "cell_type": "code",
   "execution_count": null,
   "metadata": {},
   "outputs": [],
   "source": [
    "# re-check whether the missing values are successfully dropped or not.\n",
    "df.isnull().any()"
   ]
  },
  {
   "cell_type": "code",
   "execution_count": null,
   "metadata": {},
   "outputs": [],
   "source": [
    "# reset the index\n",
    "df.reset_index(inplace=True, drop=True)"
   ]
  },
  {
   "cell_type": "markdown",
   "metadata": {},
   "source": [
    "#### Alter the data type\n",
    "Next let's transform the data types of `budget`, `revenue` from ***int*** to ***float***."
   ]
  },
  {
   "cell_type": "code",
   "execution_count": null,
   "metadata": {},
   "outputs": [],
   "source": [
    "# change the data type of budget, revenue to float\n",
    "df['budget'] = df['budget'].astype(float)\n",
    "df['revenue'] = df['revenue'].astype(float)"
   ]
  },
  {
   "cell_type": "markdown",
   "metadata": {},
   "source": [
    "Now let's check again the descriptive ststistics summary of the data set after cleaning."
   ]
  },
  {
   "cell_type": "code",
   "execution_count": null,
   "metadata": {},
   "outputs": [],
   "source": [
    "df.describe()"
   ]
  },
  {
   "cell_type": "markdown",
   "metadata": {},
   "source": [
    "As we can tell from the summary above, the longest runtime of a movie is 877 mins. To confirm this whether it's wrong or not, I searched it on [google](https://www.google.com/search?sxsrf=ALeKk03lXkiNzFw9YwQZ8k338MqIEdPV6A%3A1601458065265&ei=kU90X9_RD4-_0PEP4cCM-A0&q=taken+dreamworks+runtime&oq=taken+dreamworks+runtime&gs_lcp=CgZwc3ktYWIQAzIFCCEQoAEyBQghEKABOgQIIxAnOgQIABAeUP-TB1i1mgdgspsHaABwAHgAgAHYAogBvAmSAQUyLTEuM5gBAKABAaoBB2d3cy13aXrAAQE&sclient=psy-ab&ved=0ahUKEwif3uiYyJDsAhWPHzQIHWEgA98Q4dUDCA0&uact=5), and found out it is a TV mini series, so let's leave as it is for the moment.\n",
    "\n",
    "About the situation where budget and revenue equals to 0, as there are as large as (***See as below***), we cannot delete from the data right now as such large volumn of data will affect the liability and precision of other non-budget/revenue indicators' analysis. So we will also keep them temperarily here."
   ]
  },
  {
   "cell_type": "code",
   "execution_count": null,
   "metadata": {},
   "outputs": [],
   "source": [
    "df[(df.budget==0) | (df.revenue==0)]['budget'].count()"
   ]
  },
  {
   "cell_type": "code",
   "execution_count": null,
   "metadata": {},
   "outputs": [],
   "source": [
    "df[(df.budget==0) & (df.revenue==0)]['budget'].count()"
   ]
  },
  {
   "cell_type": "markdown",
   "metadata": {},
   "source": [
    "#### Add auxiliary columns\n",
    "We noticed that in the `production companies` and `genres`, the data is joined by pipe '|'. For answering the questions ahead better, here we need to add some new auxiliary columns into the dataframe. We take the elemnt before the first '|' in each record as the primary value, e.g. `primary_genre` and `primary_company`\n"
   ]
  },
  {
   "cell_type": "code",
   "execution_count": null,
   "metadata": {},
   "outputs": [],
   "source": [
    "# add the primary_company column\n",
    "df['company_split'] = df['production_companies'].str.split('|')\n",
    "df['primary_company'] = df['company_split'].apply(lambda x: x[0])\n",
    "\n",
    "# add the primary_genre column\n",
    "df['genre_split'] = df['genres'].str.split('|')\n",
    "df['primary_genre'] = df['genre_split'].apply(lambda x: x[0])"
   ]
  },
  {
   "cell_type": "markdown",
   "metadata": {},
   "source": [
    "The data is comparatively clean now and we can begin our exploratory analysis during which we may need to do some more transformation and computing as we are trying to answer our questions."
   ]
  },
  {
   "cell_type": "markdown",
   "metadata": {},
   "source": [
    "## Exploratory Data Analysis\n",
    "\n",
    "### Question 1. How is the number of movie made per year changing with the time?  "
   ]
  },
  {
   "cell_type": "markdown",
   "metadata": {},
   "source": [
    "First, let's group the data by year and sum up the number of movies made per year.  \n",
    "We will use the `groupby` method to answer this question. As the dataset after cleaning is all non-null recordes, when we are execute `count` on the group, the result of any column is the same, so here we choose an arbitrary column to calculate."
   ]
  },
  {
   "cell_type": "code",
   "execution_count": null,
   "metadata": {},
   "outputs": [],
   "source": [
    "# extract and calculate the data\n",
    "num_movies = df.groupby('release_year')['popularity'].count()\n",
    "num_movies.head()"
   ]
  },
  {
   "cell_type": "code",
   "execution_count": null,
   "metadata": {},
   "outputs": [],
   "source": [
    "# visualize the data\n",
    "x_tick = [i for i in range(1960,2016,5)]\n",
    "y_tick = [i for i in range(0, 700, 50)]\n",
    "num_movies.plot(figsize=(10,6), xticks=x_tick, yticks=y_tick, linewidth=2.3)\n",
    "plt.xlabel('Release Year', fontsize=12, labelpad=10)\n",
    "plt.ylabel('Number of Movies', fontsize=12, labelpad=10)\n",
    "plt.title('Number of movies produced by year', fontsize=18, fontweight='semibold');"
   ]
  },
  {
   "cell_type": "markdown",
   "metadata": {},
   "source": [
    "From the line plot above, we can see that the number of movies produced in a year is increasing as years went by, especially after 2000, it was rising very sharply, hitting the peak of 638 in 2014. Up unitl 2015, the number made in one year worldwide is almost 14 times as large as that back in 1960.  "
   ]
  },
  {
   "cell_type": "markdown",
   "metadata": {},
   "source": [
    "### Question 2.  Who are the TOP 5 companies who made the most movies throughout the years?"
   ]
  },
  {
   "cell_type": "markdown",
   "metadata": {},
   "source": [
    "Before answering this question, we need to add two new columns--'company_split', 'primary_company'. 'company_split' columns is an auxiliary column to split the data in 'production_companies' by '|'; we take the first element or company as the 'primary_company' who mainly produced the movie."
   ]
  },
  {
   "cell_type": "code",
   "execution_count": null,
   "metadata": {},
   "outputs": [],
   "source": [
    "# aggregate the number of movies produced in history by primary company name\n",
    "df_numByCo = df.groupby('primary_company')['release_year'].count().sort_values(ascending=False)\n",
    "df_numByCo"
   ]
  },
  {
   "cell_type": "code",
   "execution_count": null,
   "metadata": {},
   "outputs": [],
   "source": [
    "# extract the top5 most productive companies from above\n",
    "top5_numByCo = df_numByCo[:5]\n",
    "top5_numByCo"
   ]
  },
  {
   "cell_type": "code",
   "execution_count": null,
   "metadata": {},
   "outputs": [],
   "source": [
    "# the name of 'Twentieth Century Fox Film Corporation' is long which makes the present on the axis bad, so I shorten it.\n",
    "new_tickLabel = ['Twentieth Century Fox' if i =='Twentieth Century Fox Film Corporation' else i for i in top5_numByCo.index]\n",
    "\n",
    "# define an appropiate range for y axis ticks\n",
    "y_tick = [i for i in range(0, 550, 50)]\n",
    "\n",
    "# draw a bar chart for visualizing the question\n",
    "top5_numByCo.plot(kind='bar', width=0.3, grid=False, figsize=(14,6), color='grey')\n",
    "\n",
    "# adjust the graph to make it look user-friendly\n",
    "plt.title('TOP 5 MOST PRODUCTIVE COMPANIES', fontsize=18, fontweight='semibold')\n",
    "plt.xlabel('Production Company', fontsize=13, labelpad=10, fontweight='semibold')\n",
    "plt.ylabel('Number of Movies', fontsize=13, labelpad=10, fontweight='semibold')\n",
    "plt.xticks(np.arange(5), new_tickLabel, rotation=0,  fontsize=12);\n",
    "plt.yticks(y_tick, fontsize=10);"
   ]
  },
  {
   "cell_type": "markdown",
   "metadata": {},
   "source": [
    "From the bar chart above, we can see the top 5 companies who made the most movies in history.\n",
    "\n",
    "Next, we can even take a look at how the number of movies made in each company varied with time."
   ]
  },
  {
   "cell_type": "code",
   "execution_count": null,
   "metadata": {},
   "outputs": [],
   "source": [
    "# construct the dataframe for visualization.\n",
    "top5_numByCo_names = list(top5_numByCo.index)\n",
    "df_top5_numByCo = df[df['primary_company'].isin(top5_numByCo_names)]\n",
    "Stat_top5_numByCo = df_top5_numByCo.groupby(['primary_company','release_year'])['original_title'].count()\n",
    "Stat_top5_numByCo.name = 'count'\n",
    "\n",
    "# reconstructure the DataFrame for visualization purpose\n",
    "Stat_top5_numByCo1 = Stat_top5_numByCo.unstack(level=0)\n",
    "Stat_top5_numByCo1.head()"
   ]
  },
  {
   "cell_type": "code",
   "execution_count": null,
   "metadata": {},
   "outputs": [],
   "source": [
    "# visualize the movie number variation by each year among the 5 most prodcutive companies\n",
    "colour_pa = ['#DF5427','#A6B827','#F69200','#418AB3', '#838383']\n",
    "for i, j, k in zip(np.arange(511, 516), top5_numByCo_names, colour_pa):\n",
    "    plt.subplot(i)\n",
    "    Stat_top5_numByCo1[j].plot(linestyle='--', linewidth=2, marker='o', figsize=(18,30), color=k)\n",
    "    plt.title(\"Yearly Production Detail by {}\".format(j), fontweight='semibold', fontsize=15)\n",
    "    plt.xlabel('Year', fontsize=12)\n",
    "    plt.ylabel('Number', fontsize=12)\n",
    "    plt.grid(color='grey', linewidth=0.4, alpha=0.5)\n",
    "    plt.xticks(np.arange(1960, 2016), rotation=70)\n",
    "    plt.xlim(1959,2016)\n",
    "    subplots_adjust(hspace=0.4)"
   ]
  },
  {
   "cell_type": "markdown",
   "metadata": {},
   "source": [
    "From all the pictures above, we can find that after 1990, the number of movies made each year in all the five companies were jumping onto a higher level."
   ]
  },
  {
   "cell_type": "code",
   "execution_count": null,
   "metadata": {},
   "outputs": [],
   "source": []
  }
 ],
 "metadata": {
  "kernelspec": {
   "display_name": "Python 3",
   "language": "python",
   "name": "python3"
  },
  "language_info": {
   "codemirror_mode": {
    "name": "ipython",
    "version": 3
   },
   "file_extension": ".py",
   "mimetype": "text/x-python",
   "name": "python",
   "nbconvert_exporter": "python",
   "pygments_lexer": "ipython3",
   "version": "3.7.9"
  }
 },
 "nbformat": 4,
 "nbformat_minor": 4
}
