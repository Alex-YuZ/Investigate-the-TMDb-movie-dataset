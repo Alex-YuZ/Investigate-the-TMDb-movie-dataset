{
 "cells": [
  {
   "cell_type": "markdown",
   "metadata": {},
   "source": [
    "# Investigate the TMDb Movie Data"
   ]
  },
  {
   "cell_type": "markdown",
   "metadata": {},
   "source": [
    "## Data Wrangling\n",
    "\n",
    "In this section, we will firstly load in the data, check for cleanliness, and then trim and clean our dataset for analysis.\n",
    "\n",
    "\n",
    "\n",
    "### General Properties"
   ]
  },
  {
   "cell_type": "code",
   "execution_count": null,
   "metadata": {},
   "outputs": [],
   "source": [
    "import pandas as pd\n",
    "import numpy as np\n",
    "import matplotlib.pyplot as plt\n",
    "from pylab import *\n",
    "plt.style.use('seaborn-white')\n",
    "%matplotlib inline"
   ]
  },
  {
   "cell_type": "markdown",
   "metadata": {},
   "source": [
    "NOW, import the data and take a brief look at what the data set is like.  "
   ]
  },
  {
   "cell_type": "code",
   "execution_count": null,
   "metadata": {},
   "outputs": [],
   "source": [
    "# load the data\n",
    "filepath = 'tmdb-movies.csv'\n",
    "df = pd.read_csv(filepath)\n",
    "\n",
    "# data records, columns, data type, and missing values check\n",
    "df.info()"
   ]
  },
  {
   "cell_type": "markdown",
   "metadata": {},
   "source": [
    "From the above, we can attain a brief summary of the data structure such as how many records, columns are there, which data each column has and which of them have null values. \n",
    "\n",
    "Then let's ouptput a few lines to see how these data actually look like in the data set."
   ]
  },
  {
   "cell_type": "code",
   "execution_count": null,
   "metadata": {},
   "outputs": [],
   "source": [
    "# output the first five rows to see how the data is presented in the data set.\n",
    "df.head()"
   ]
  },
  {
   "cell_type": "markdown",
   "metadata": {},
   "source": [
    "From the above, we can see there are 10866 records. There are three data types in total, e.g. ***int***, ***float*** and ***strings***. Some columns like cast, homepage, tagline, production companies have lots of null values. Certain columns, like ‘cast’, ‘genres’ and production companies, contain multiple values separated by pipe ('|') characters. We need to do some tricks on these columns for answering our questions later on.  \n",
    "\n",
    "Next, let's take a quick view of descriptive statistics summary on the numeric data type in this data set. *See as below*."
   ]
  },
  {
   "cell_type": "code",
   "execution_count": null,
   "metadata": {},
   "outputs": [],
   "source": [
    "# make a brief descriptive statistics summary on the data\n",
    "df.describe()"
   ]
  },
  {
   "cell_type": "markdown",
   "metadata": {},
   "source": [
    "The summary above tells us some important numeric indicators about the movie, such as,  \n",
    "- the movie data set records the information from 1960 to 2015.\n",
    "- the average runtime of a movie is 102 mins but the maximum value is 900 mins which needs to be studied on deeper!\n",
    "- The mimium values of some columns are 0 such as the `budget`, `revenue`. This is against reality. According to the explaination on [Kaggle](https://www.kaggle.com/tmdb/tmdb-movie-metadata?select=tmdb_5000_movies.csv), *'it was necessary to treat values of zero in the budget field as missing.'*, so we may consider this when we are answering buget/revenue related questions."
   ]
  },
  {
   "cell_type": "markdown",
   "metadata": {},
   "source": [
    "### Data Cleaning\n",
    "In this section, we are going to do some wrangling on the original data set such as dropping some redundant information, groupping, computing etc. for making our exploratory data analysis and answering our questions easily."
   ]
  },
  {
   "cell_type": "markdown",
   "metadata": {},
   "source": [
    "#### Drop the irrelevant columns\n",
    "\n",
    "As some columns do not make sense to answer our questions, we need to delete them from our dataset. Let's decide which columns need to be dropped."
   ]
  },
  {
   "cell_type": "code",
   "execution_count": null,
   "metadata": {},
   "outputs": [],
   "source": [
    "# general information about the data in the table.\n",
    "df.info()"
   ]
  },
  {
   "cell_type": "markdown",
   "metadata": {},
   "source": [
    "Columns like `id`, `imdb_id`, `cast`, `homepage`, `tagline`, `keywords`, `overview` are all irrelevant to our analysis in the project, so we drop them immediately."
   ]
  },
  {
   "cell_type": "code",
   "execution_count": null,
   "metadata": {},
   "outputs": [],
   "source": [
    "# drop the irrelevant columns.\n",
    "df.drop(['id', 'imdb_id', 'cast', 'homepage', 'tagline', 'keywords', 'overview'], axis=1, inplace=True)"
   ]
  },
  {
   "cell_type": "code",
   "execution_count": null,
   "metadata": {},
   "outputs": [],
   "source": [
    "# check the dataset after dropping.\n",
    "df.head()"
   ]
  },
  {
   "cell_type": "markdown",
   "metadata": {},
   "source": [
    "#### Drop the missing values\n",
    "Now let's look at the missing values in the dataset."
   ]
  },
  {
   "cell_type": "code",
   "execution_count": null,
   "metadata": {},
   "outputs": [],
   "source": [
    "# check which columns have missing values and how many are there?\n",
    "df.isnull().sum()"
   ]
  },
  {
   "cell_type": "markdown",
   "metadata": {},
   "source": [
    "From the result above, we can see that within the columns of `director`, `genres`, `production_companies`, there are a few null values, as they do not take up much proportion, we just choose to delete them."
   ]
  },
  {
   "cell_type": "code",
   "execution_count": null,
   "metadata": {},
   "outputs": [],
   "source": [
    "df.dropna(inplace=True)"
   ]
  },
  {
   "cell_type": "code",
   "execution_count": null,
   "metadata": {},
   "outputs": [],
   "source": [
    "# re-check whether the missing values are successfully dropped or not.\n",
    "df.isnull().any()"
   ]
  },
  {
   "cell_type": "code",
   "execution_count": null,
   "metadata": {},
   "outputs": [],
   "source": [
    "# reset the index\n",
    "df.reset_index(inplace=True, drop=True)"
   ]
  },
  {
   "cell_type": "markdown",
   "metadata": {},
   "source": [
    "#### Alter the data type\n",
    "Next let's transform the data types of `budget`, `revenue` from ***int*** to ***float***."
   ]
  },
  {
   "cell_type": "code",
   "execution_count": null,
   "metadata": {},
   "outputs": [],
   "source": [
    "# change the data type of budget, revenue to float\n",
    "df['budget'] = df['budget'].astype(float)\n",
    "df['revenue'] = df['revenue'].astype(float)"
   ]
  },
  {
   "cell_type": "markdown",
   "metadata": {},
   "source": [
    "Now let's check again the descriptive ststistics summary of the data set after cleaning."
   ]
  },
  {
   "cell_type": "code",
   "execution_count": null,
   "metadata": {},
   "outputs": [],
   "source": [
    "df.describe()"
   ]
  },
  {
   "cell_type": "markdown",
   "metadata": {},
   "source": [
    "As we can tell from the summary above, the longest runtime of a movie is 877 mins. To confirm this whether it's wrong or not, I searched it on [google](https://www.google.com/search?sxsrf=ALeKk03lXkiNzFw9YwQZ8k338MqIEdPV6A%3A1601458065265&ei=kU90X9_RD4-_0PEP4cCM-A0&q=taken+dreamworks+runtime&oq=taken+dreamworks+runtime&gs_lcp=CgZwc3ktYWIQAzIFCCEQoAEyBQghEKABOgQIIxAnOgQIABAeUP-TB1i1mgdgspsHaABwAHgAgAHYAogBvAmSAQUyLTEuM5gBAKABAaoBB2d3cy13aXrAAQE&sclient=psy-ab&ved=0ahUKEwif3uiYyJDsAhWPHzQIHWEgA98Q4dUDCA0&uact=5), and found out it is a TV mini series, so let's leave as it is for the moment.\n",
    "\n",
    "About the situation where budget and revenue equals to 0, as there are as large as (***See as below***), we cannot delete from the data right now as such large volumn of data will affect the liability and precision of other non-budget/revenue indicators' analysis. So we will also keep them temperarily here."
   ]
  },
  {
   "cell_type": "code",
   "execution_count": null,
   "metadata": {},
   "outputs": [],
   "source": [
    "df[(df.budget==0) | (df.revenue==0)]['budget'].count()"
   ]
  },
  {
   "cell_type": "code",
   "execution_count": null,
   "metadata": {},
   "outputs": [],
   "source": [
    "df[(df.budget==0) & (df.revenue==0)]['budget'].count()"
   ]
  },
  {
   "cell_type": "markdown",
   "metadata": {},
   "source": [
    "#### Add auxiliary columns\n",
    "We noticed that in the `production companies` and `genres`, the data is joined by pipe '|'. For answering the questions ahead better, here we need to add some new auxiliary columns into the dataframe. We take the elemnt before the first '|' in each record as the primary value, e.g. `primary_genre` and `primary_company`\n"
   ]
  },
  {
   "cell_type": "code",
   "execution_count": null,
   "metadata": {},
   "outputs": [],
   "source": [
    "# add the primary_company column\n",
    "df['company_split'] = df['production_companies'].str.split('|')\n",
    "df['primary_company'] = df['company_split'].apply(lambda x: x[0])\n",
    "\n",
    "# add the primary_genre column\n",
    "df['genre_split'] = df['genres'].str.split('|')\n",
    "df['primary_genre'] = df['genre_split'].apply(lambda x: x[0])"
   ]
  },
  {
   "cell_type": "markdown",
   "metadata": {},
   "source": [
    "The data is comparatively clean now and we can begin our exploratory analysis during which we may need to do some more transformation and computing as we are trying to answer our questions."
   ]
  },
  {
   "cell_type": "markdown",
   "metadata": {},
   "source": [
    "## Exploratory Data Analysis\n",
    "\n",
    "### Question 1. How is the number of movie made per year changing with the time?  "
   ]
  },
  {
   "cell_type": "markdown",
   "metadata": {},
   "source": [
    "First, let's group the data by year and sum up the number of movies made per year.  \n",
    "We will use the `groupby` method to answer this question. As the dataset after cleaning is all non-null recordes, when we are execute `count` on the group, the result of any column is the same, so here we choose an arbitrary column to calculate."
   ]
  },
  {
   "cell_type": "code",
   "execution_count": null,
   "metadata": {},
   "outputs": [],
   "source": [
    "# extract and calculate the data\n",
    "num_movies = df.groupby('release_year')['popularity'].count()\n",
    "num_movies.head()"
   ]
  },
  {
   "cell_type": "code",
   "execution_count": null,
   "metadata": {},
   "outputs": [],
   "source": [
    "# visualize the data\n",
    "x_tick = [i for i in range(1960,2016,5)]\n",
    "y_tick = [i for i in range(0, 700, 50)]\n",
    "num_movies.plot(figsize=(10,6), xticks=x_tick, yticks=y_tick, linewidth=2.3)\n",
    "plt.xlabel('Release Year', fontsize=12, labelpad=10)\n",
    "plt.ylabel('Number of Movies', fontsize=12, labelpad=10)\n",
    "plt.title('Number of movies produced by year', fontsize=18, fontweight='semibold');"
   ]
  },
  {
   "cell_type": "markdown",
   "metadata": {},
   "source": [
    "From the line plot above, we can see that the number of movies produced in a year is increasing as years went by, especially after 2000, it was rising very sharply, hitting the peak of 638 in 2014. Up unitl 2015, the number made in one year worldwide is almost 14 times as large as that back in 1960.  "
   ]
  },
  {
   "cell_type": "markdown",
   "metadata": {},
   "source": [
    "### Question 2.  Who are the TOP 5 companies who made the most movies throughout the years?"
   ]
  },
  {
   "cell_type": "markdown",
   "metadata": {},
   "source": [
    "Before answering this question, we need to add two new columns--'company_split', 'primary_company'. 'company_split' columns is an auxiliary column to split the data in 'production_companies' by '|'; we take the first element or company as the 'primary_company' who mainly produced the movie."
   ]
  },
  {
   "cell_type": "code",
   "execution_count": null,
   "metadata": {},
   "outputs": [],
   "source": [
    "# aggregate the number of movies produced in history by primary company name\n",
    "df_numByCo = df.groupby('primary_company')['release_year'].count().sort_values(ascending=False)\n",
    "df_numByCo"
   ]
  },
  {
   "cell_type": "code",
   "execution_count": null,
   "metadata": {},
   "outputs": [],
   "source": [
    "# extract the top5 most productive companies from above\n",
    "top5_numByCo = df_numByCo[:5]\n",
    "top5_numByCo"
   ]
  },
  {
   "cell_type": "code",
   "execution_count": null,
   "metadata": {},
   "outputs": [],
   "source": [
    "# the name of 'Twentieth Century Fox Film Corporation' is long which makes the present on the axis bad, so I shorten it.\n",
    "new_tickLabel = ['Twentieth Century Fox' if i =='Twentieth Century Fox Film Corporation' else i for i in top5_numByCo.index]\n",
    "\n",
    "# define an appropiate range for y axis ticks\n",
    "y_tick = [i for i in range(0, 550, 50)]\n",
    "\n",
    "# draw a bar chart for visualizing the question\n",
    "top5_numByCo.plot(kind='bar', width=0.3, grid=False, figsize=(14,6), color='grey')\n",
    "\n",
    "# adjust the graph to make it look user-friendly\n",
    "plt.title('TOP 5 MOST PRODUCTIVE COMPANIES', fontsize=18, fontweight='semibold')\n",
    "plt.xlabel('Production Company', fontsize=13, labelpad=10, fontweight='semibold')\n",
    "plt.ylabel('Number of Movies', fontsize=13, labelpad=10, fontweight='semibold')\n",
    "plt.xticks(np.arange(5), new_tickLabel, rotation=0,  fontsize=12);\n",
    "plt.yticks(y_tick, fontsize=10);"
   ]
  },
  {
   "cell_type": "markdown",
   "metadata": {},
   "source": [
    "From the bar chart above, we can see the top 5 companies who made the most movies in history.\n",
    "\n",
    "Next, we can even take a look at how the number of movies made in each company varied with time."
   ]
  },
  {
   "cell_type": "code",
   "execution_count": null,
   "metadata": {},
   "outputs": [],
   "source": [
    "# construct the dataframe for visualization.\n",
    "top5_numByCo_names = list(top5_numByCo.index)\n",
    "df_top5_numByCo = df[df['primary_company'].isin(top5_numByCo_names)]\n",
    "Stat_top5_numByCo = df_top5_numByCo.groupby(['primary_company','release_year'])['original_title'].count()\n",
    "Stat_top5_numByCo.name = 'count'\n",
    "\n",
    "# reconstructure the DataFrame for visualization purpose\n",
    "Stat_top5_numByCo1 = Stat_top5_numByCo.unstack(level=0)\n",
    "Stat_top5_numByCo1.head()"
   ]
  },
  {
   "cell_type": "code",
   "execution_count": null,
   "metadata": {},
   "outputs": [],
   "source": [
    "# visualize the movie number variation by each year among the 5 most prodcutive companies\n",
    "colour_pa = ['#DF5427','#A6B827','#F69200','#418AB3', '#838383']\n",
    "for i, j, k in zip(np.arange(511, 516), top5_numByCo_names, colour_pa):\n",
    "    plt.subplot(i)\n",
    "    Stat_top5_numByCo1[j].plot(linestyle='--', linewidth=2, marker='o', figsize=(18,30), color=k)\n",
    "    plt.title(\"Yearly Production Detail by {}\".format(j), fontweight='semibold', fontsize=15)\n",
    "    plt.xlabel('Year', fontsize=12)\n",
    "    plt.ylabel('Number', fontsize=12)\n",
    "    plt.grid(color='grey', linewidth=0.4, alpha=0.5)\n",
    "    plt.xticks(np.arange(1960, 2016), rotation=70)\n",
    "    plt.xlim(1959,2016)\n",
    "    subplots_adjust(hspace=0.4)"
   ]
  },
  {
   "cell_type": "markdown",
   "metadata": {},
   "source": [
    "From all the pictures above, we can find that after 1990, the number of movies made each year in all the five companies were jumping onto a higher level."
   ]
  },
  {
   "cell_type": "markdown",
   "metadata": {},
   "source": [
    "### Question 3.  What are the 5 movies which made the most revenues in history?"
   ]
  },
  {
   "cell_type": "code",
   "execution_count": null,
   "metadata": {},
   "outputs": [],
   "source": [
    "# create the DataFrame fot visualizing the 5 movies who made the most revenues of all time\n",
    "top5_rev = df.sort_values('revenue', ascending=False)[['original_title','revenue']][:5]\n",
    "top5_rev.reset_index(inplace=True, drop=True)\n",
    "\n",
    "# create the figure and make it more readible\n",
    "colour = ['#24D09C','#276FC6','#2D9ED9','#30D0D9','#F59100']\n",
    "new_tickLabel1 = ['Star Wars: \\nThe Force Awakens' if i =='Star Wars: The Force Awakens' else i for i in top5_rev.original_title[::-1]]\n",
    "top5_rev.sort_values('revenue').plot(y='revenue', x='original_title', width=0.5, kind='barh', color = colour, figsize=(10,7), legend=None)\n",
    "plt.title('TOP 5 MOVIES WITH MOST REVENUES', fontsize=18, fontweight='semibold')\n",
    "plt.ylabel('MOVIE NAME', fontsize=13, labelpad=10)\n",
    "plt.xlabel('REVENUE', fontsize=13, labelpad=10)\n",
    "plt.yticks(np.arange(5), new_tickLabel1, rotation=0, fontsize=12, fontweight='semibold')\n",
    "plt.xticks(np.arange(0,3.5*10**9,0.4*10**9), fontsize=11)\n",
    "plt.grid(axis='x', color='k', linewidth=0.3, linestyle=':', alpha=0.9);"
   ]
  },
  {
   "cell_type": "markdown",
   "metadata": {},
   "source": [
    "From the horizontal bar chart above, we can see that the 5 movies with the most revenue in history are:  \n",
    "1. Avatar\n",
    "2. Star Wars: The Force Awakens\n",
    "3. Titanic\n",
    "4. The Avengers\n",
    "5. Jurassic World"
   ]
  },
  {
   "cell_type": "markdown",
   "metadata": {},
   "source": [
    "### Question 4. What are the most popular movie types  companies would like to make?"
   ]
  },
  {
   "cell_type": "code",
   "execution_count": null,
   "metadata": {},
   "outputs": [],
   "source": [
    "# aggregate the data by movie genre and sum up the numbers in each genre respectively.\n",
    "df_numByType = df.groupby('primary_genre')['original_title'].count().sort_values(ascending=False)\n",
    "\n",
    "# draw the graph\n",
    "df_numByType.plot(kind='bar', width=0.4, color='grey', grid=False, figsize=(15,6))\n",
    "plt.xlabel('Primary Genre', fontsize=12, fontweight='semibold')\n",
    "plt.ylabel('Number', fontsize=12, fontweight='semibold', labelpad=10)\n",
    "plt.title('Total Number of Movies Produced by Genre', fontsize=18, fontweight='bold')\n",
    "plt.xticks(rotation=30, ha='right')\n",
    "plt.yticks([])\n",
    "\n",
    "# get rid of the surrounding axis frames\n",
    "ax = plt.gca()\n",
    "ax.spines['top'].set_visible(False)\n",
    "ax.spines['right'].set_visible(False)\n",
    "ax.spines['left'].set_visible(False)\n",
    "\n",
    "# add the annotation on top of the bar chart\n",
    "total_type = len(df_numByType.index)\n",
    "for i, dt in zip(np.arange(total_type), df_numByType):\n",
    "    plt.text(x=i-0.3, y=dt+30, s=str(dt), fontsize=12)\n"
   ]
  },
  {
   "cell_type": "markdown",
   "metadata": {},
   "source": [
    "From the bar chart above, we can see that three genres, namely ***drama***, ***comedy***, ***action***, is overwhelmingly popular, based on the their numbers already produced throughout the years.   \n",
    "\n",
    "Next we'll see how the production of these 3 genres, varied with the time."
   ]
  },
  {
   "cell_type": "code",
   "execution_count": null,
   "metadata": {},
   "outputs": [],
   "source": [
    "# extract the 3 most popular genres\n",
    "top3_genre_names = list(df_numByType.index)[:3]\n",
    "top3_genre_names\n",
    "\n",
    "# extract the 5 most popular genres\n",
    "top5_genre_names = list(df_numByType.index)[:5]\n",
    "top5_genre_names"
   ]
  },
  {
   "cell_type": "code",
   "execution_count": null,
   "metadata": {},
   "outputs": [],
   "source": [
    "# create the top 3 genres series\n",
    "years = np.arange(1960, 2016)\n",
    "drama_srs = df[df['primary_genre']=='Drama'].groupby('release_year')['original_title'].count().values\n",
    "comedy_srs = df[df['primary_genre']=='Comedy'].groupby('release_year')['original_title'].count().values\n",
    "action_srs = df[df['primary_genre']=='Action'].groupby('release_year')['original_title'].count().values\n",
    "\n",
    "labels = ['Drama', 'Comedy', 'Action']\n",
    "\n",
    "# make the stackplot\n",
    "plt.figure(figsize=(16,6))\n",
    "plt.stackplot(years, drama_srs, comedy_srs, action_srs, labels=labels)\n",
    "\n",
    "plt.xticks(years[::2])\n",
    "\n",
    "plt.xlim(1960,2015)\n",
    "plt.legend(loc='upper left');"
   ]
  },
  {
   "cell_type": "markdown",
   "metadata": {},
   "source": [
    "From the area stacked graph above, we can see that the number of movies in each movie genre was increasing year by year, with ***drama*** covering the largest proportion and ***action*** relatively smaller."
   ]
  },
  {
   "cell_type": "code",
   "execution_count": null,
   "metadata": {},
   "outputs": [],
   "source": [
    "# get the series for the 5 most prodcutive companies\n",
    "top5_CoByGenre_list = [\"srs_{}\".format(i) for i in top5_numByCo_names ]\n",
    "\n",
    "# use an empty list to store the data from the top 5 companies' production detail by genres\n",
    "srs_list = []\n",
    "for i, j in zip(top5_CoByGenre_list, top5_numByCo_names):\n",
    "    i = df[df['primary_company']==j].groupby('primary_genre')['original_title'].count()\n",
    "    srs_list.append(i)\n",
    "\n",
    "# concatenate these data into a new DataFrame\n",
    "new_df = pd.concat(srs_list, axis=1, sort=False)\n",
    "\n",
    "# rename the columns of the new DataFrame\n",
    "new_df.columns = top5_numByCo_names\n",
    "\n",
    "# transpose the DataFrame for the sake of visualization later on\n",
    "tmp = new_df.T[top5_genre_names]\n",
    "\n",
    "# Check the new data\n",
    "tmp"
   ]
  },
  {
   "cell_type": "markdown",
   "metadata": {},
   "source": [
    "Now let's explore more a little bit.  \n",
    "I am wondering among the top 5 most productive companies, how the 5 most preferred movie genre varies each other. Here are the steps.  \n",
    "1. extract the 5 most preferred movie genre. We can refer to the result of the previous question.\n",
    "2. extract the 5 most productive companies.\n",
    "3. Based on each company, create a stacked bar chart consisting the 5 genres from step 1."
   ]
  },
  {
   "cell_type": "code",
   "execution_count": null,
   "metadata": {},
   "outputs": [],
   "source": [
    "# draw the stacked bar chart\n",
    "x = np.arange(len(top5_numByCo_names))\n",
    "plt.figure(figsize=(14,6))\n",
    "bar_width = 0.4\n",
    "color_pa = ['#DF5427','#2D9ED9','#A6B827','#F69200','#838383']\n",
    "plt.bar(x, tmp['Drama'], width = bar_width, label='Drama', color=color_pa[0])\n",
    "\n",
    "for i, j, c in zip(np.arange(1, len(list(tmp.columns)[1:5])+1), list(tmp.columns)[1:5], color_pa[1:]):    \n",
    "    plt.bar(x, \n",
    "            tmp[\"{}\".format(j)], \n",
    "            bottom=tmp[[k for k in list(tmp.columns)[:i]]].sum(axis=1), \n",
    "            width = bar_width, \n",
    "            label=\"{}\".format(j), color=c)\n",
    "    \n",
    "# visualization customization    \n",
    "plt.xticks(x, new_tickLabel, fontweight='semibold', fontsize=12)\n",
    "plt.legend(title='GENRES', loc='upper right')\n",
    "plt.title('the genre variation among the top 5 companies'.title(), fontsize=18, fontweight='semibold')\n",
    "plt.xlabel('Companies', fontsize=14, labelpad=20)\n",
    "plt.ylabel('Number', fontsize=14, labelpad=20);"
   ]
  },
  {
   "cell_type": "code",
   "execution_count": null,
   "metadata": {},
   "outputs": [],
   "source": []
  }
 ],
 "metadata": {
  "kernelspec": {
   "display_name": "Python 3",
   "language": "python",
   "name": "python3"
  },
  "language_info": {
   "codemirror_mode": {
    "name": "ipython",
    "version": 3
   },
   "file_extension": ".py",
   "mimetype": "text/x-python",
   "name": "python",
   "nbconvert_exporter": "python",
   "pygments_lexer": "ipython3",
   "version": "3.7.9"
  }
 },
 "nbformat": 4,
 "nbformat_minor": 4
}
